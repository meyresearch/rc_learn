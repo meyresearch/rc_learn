{
 "cells": [
  {
   "cell_type": "markdown",
   "metadata": {},
   "source": [
    "## Notebook for learning CVs from diffusion maps for metadynamics\n",
    "\n",
    "Author: Antonia Mey <antonia.mey@ed.ac.uk>   \n",
    "Content: Cobbled together from bits by Zofia and Muneeb Sultan"
   ]
  },
  {
   "cell_type": "code",
   "execution_count": 2,
   "metadata": {
    "scrolled": true
   },
   "outputs": [
    {
     "name": "stdout",
     "output_type": "stream",
     "text": [
      "Populating the interactive namespace from numpy and matplotlib\n"
     ]
    },
    {
     "name": "stderr",
     "output_type": "stream",
     "text": [
      "/home/ppxasjsm/miniconda3/envs/cvlearn/lib/python3.6/site-packages/IPython/core/magics/pylab.py:160: UserWarning: pylab import has clobbered these variables: ['norm', 'cosh', 'tanh', 'bar', 'copy', 'radians', 'degrees', 'tan', 'dot', 'sqrt', 'bytes', 'cos', 'sin', 'sum', 'byte', 'griddata', 'sinh']\n",
      "`%matplotlib` prevents importing * from pylab and numpy\n",
      "  \"\\n`%matplotlib` prevents importing * from pylab and numpy\"\n"
     ]
    }
   ],
   "source": [
    "%pylab inline\n",
    "from simtk.openmm import *\n",
    "from simtk.openmm.app import *\n",
    "from simtk.unit import *\n",
    "import matplotlib.pyplot as plt\n",
    "import matplotlib.patches as patches\n",
    "import matplotlib.image as image\n",
    "from pyemma import msm\n",
    "from scipy.interpolate import griddata\n",
    "from matplotlib.pyplot import cm\n",
    "import metadynamics"
   ]
  },
  {
   "cell_type": "code",
   "execution_count": 3,
   "metadata": {},
   "outputs": [
    {
     "name": "stdout",
     "output_type": "stream",
     "text": [
      "['Reference', 'CPU', 'CUDA', 'OpenCL']\n"
     ]
    }
   ],
   "source": [
    "import simtk.openmm as mm\n",
    "platforms = [ mm.Platform.getPlatform(index).getName() for index in range(mm.Platform.getNumPlatforms()) ]\n",
    "print (platforms)"
   ]
  },
  {
   "cell_type": "code",
   "execution_count": 4,
   "metadata": {},
   "outputs": [],
   "source": [
    "def _compute_torsion(coordinates, i, j, k, l):\n",
    "    \"\"\"\n",
    "    Compute torsion angle defined by four atoms.\n",
    "\n",
    "    ARGUMENTS\n",
    "\n",
    "    coordinates (simtk.unit.Quantity wrapping numpy natoms x 3) - atomic coordinates\n",
    "    i, j, k, l - four atoms defining torsion angle\n",
    "\n",
    "    NOTES\n",
    "\n",
    "    Algorithm of Swope and Ferguson [1] is used.\n",
    "\n",
    "    [1] Swope WC and Ferguson DM. Alternative expressions for energies and forces due to angle bending and torsional energy.\n",
    "    J. Comput. Chem. 13:585, 1992.\n",
    "\n",
    "    \"\"\"\n",
    "    # Swope and Ferguson, Eq. 26\n",
    "    rij = (coordinates[i] - coordinates[j]) / nanometers\n",
    "    rkj = (coordinates[k] - coordinates[j]) / nanometers\n",
    "    rlk = (coordinates[l] - coordinates[k]) / nanometers\n",
    "    rjk = (coordinates[j] - coordinates[k]) / nanometers # added\n",
    "\n",
    "    # Swope and Ferguson, Eq. 27\n",
    "    t = np.cross(rij, rkj)\n",
    "    u = np.cross(rjk, rlk) # fixed because this didn't seem to match diagram in equation in paper\n",
    "\n",
    "    # Swope and Ferguson, Eq. 28\n",
    "    t_norm = np.sqrt(numpy.dot(t, t))\n",
    "    u_norm = np.sqrt(numpy.dot(u, u))\n",
    "\n",
    "    cos_theta = np.dot(t, u) / (t_norm * u_norm)\n",
    "\n",
    "    theta = np.arccos(cos_theta) * np.sign(np.dot(rkj, np.cross(t, u)).value_in_unit(nanometer**-5))\n",
    "    theta = math.degrees(theta)*degree\n",
    "    return theta\n"
   ]
  },
  {
   "cell_type": "code",
   "execution_count": 5,
   "metadata": {},
   "outputs": [],
   "source": [
    "#Free energy surface reference adp do not use in a quantitative fashion\n",
    "def adp_reference():\n",
    "    centers = np.load('control_data/centers.npy')\n",
    "    tau = 6\n",
    "    dtrajs_long = list(np.load('control_data/dtrajs_long.npz')['arr_0'])\n",
    "    msm_nrev = msm.estimate_markov_model(dtrajs_long, tau, count_mode='sample')\n",
    "    lcc = msm_nrev.active_set\n",
    "    pi = msm_nrev.stationary_distribution\n",
    "    kB=8.314472471220217*1e-3  # kJ/(K*mol)\n",
    "    T=300.0                    # K\n",
    "    beta=1.0/(kB*T)            # mol/kJ\n",
    "    A = -1.0/beta*np.log(pi)\n",
    "    A -= A.min()\n",
    "    centers_lcc = centers[lcc, :]\n",
    "    nx = 60\n",
    "    x = np.linspace(-180.0, 180.0, nx)\n",
    "    ny = 60\n",
    "    y = np.linspace(-180.0, 180.0, ny)\n",
    "    X, Y = np.meshgrid(x, y)\n",
    "    AXY = griddata(centers_lcc, A, (X, Y), method='cubic')\n",
    "    return (X,Y,AXY)"
   ]
  },
  {
   "cell_type": "markdown",
   "metadata": {},
   "source": [
    "## Running a standard MD simulations computing torsions"
   ]
  },
  {
   "cell_type": "code",
   "execution_count": 6,
   "metadata": {},
   "outputs": [],
   "source": [
    "# Bunch of useful simulation parameters\n",
    "steps = 50\n",
    "iterations = 1000\n",
    "beta = 1.0/(300.0*0.0083144621)"
   ]
  },
  {
   "cell_type": "code",
   "execution_count": 7,
   "metadata": {
    "scrolled": true
   },
   "outputs": [],
   "source": [
    "## standard simulation\n",
    "phi = [1, 6, 8 ,14] #dihedral coordinates\n",
    "psi = [6, 8, 14, 16]\n",
    "pdb_name = '/home/ppxasjsm/Projects/git/openmm/wrappers/python/tests/systems/alanine-dipeptide-explicit.pdb'\n",
    "pdb = PDBFile('/home/ppxasjsm/Projects/git/openmm/wrappers/python/tests/systems/alanine-dipeptide-explicit.pdb')\n",
    "        \n",
    "forcefield = ForceField('amber14-all.xml', 'amber14/spce.xml')\n",
    "system = forcefield.createSystem(pdb.topology, nonbondedMethod=PME, constraints=HBonds)\n",
    "integrator = LangevinIntegrator(300*kelvin, 1.0/picosecond, 0.002*picoseconds)\n",
    "simulation = Simulation(pdb.topology, system, integrator, platform=Platform.getPlatformByName('CUDA'))\n",
    "simulation.context.setPositions(pdb.positions)\n",
    "\n",
    "potential_list = []\n",
    "torsion_list = []\n",
    "simulation.reporters.append(DCDReporter('/home/ppxasjsm/Projects/People/Zofia/adp_openmm/trajectory.dcd', steps, append=True))\n",
    "for i in range(iterations):\n",
    "    simulation.step(steps)\n",
    "\n",
    "    state = simulation.context.getState(getEnergy=True, enforcePeriodicBox = True)\n",
    "    positions = simulation.context.getState(getPositions=True).getPositions()\n",
    "    coordinates = positions.value_in_unit(nanometer)\n",
    "    dihedral = np.zeros(2)\n",
    "\n",
    "    dihedral[0] = _compute_torsion(coordinates, phi[0],phi[1],phi[2],phi[3]).value_in_unit(degree)\n",
    "    dihedral[1] = _compute_torsion(coordinates, psi[0],psi[1],psi[2],psi[3]).value_in_unit(degree)\n",
    "    torsion_list.append(dihedral)\n",
    "    potential_list.append(state.getPotentialEnergy().value_in_unit(kilojoule/mole))\n",
    "\n"
   ]
  },
  {
   "cell_type": "code",
   "execution_count": 8,
   "metadata": {},
   "outputs": [],
   "source": [
    "#Converting generated lists to numpy arrays\n",
    "torsion_list = np.array(torsion_list)\n",
    "potential_list = np.array(potential_list)"
   ]
  },
  {
   "cell_type": "code",
   "execution_count": 9,
   "metadata": {
    "scrolled": false
   },
   "outputs": [
    {
     "ename": "FileNotFoundError",
     "evalue": "[Errno 2] No such file or directory: 'control_data/centers.npy'",
     "output_type": "error",
     "traceback": [
      "\u001b[0;31m---------------------------------------------------------------------------\u001b[0m",
      "\u001b[0;31mFileNotFoundError\u001b[0m                         Traceback (most recent call last)",
      "\u001b[0;32m<ipython-input-9-619d929356d1>\u001b[0m in \u001b[0;36m<module>\u001b[0;34m\u001b[0m\n\u001b[1;32m      1\u001b[0m \u001b[0;31m# Plotting the reference as contours\u001b[0m\u001b[0;34m\u001b[0m\u001b[0;34m\u001b[0m\u001b[0;34m\u001b[0m\u001b[0m\n\u001b[0;32m----> 2\u001b[0;31m \u001b[0mX\u001b[0m\u001b[0;34m,\u001b[0m\u001b[0mY\u001b[0m\u001b[0;34m,\u001b[0m\u001b[0mAXY\u001b[0m \u001b[0;34m=\u001b[0m \u001b[0madp_reference\u001b[0m\u001b[0;34m(\u001b[0m\u001b[0;34m)\u001b[0m\u001b[0;34m\u001b[0m\u001b[0;34m\u001b[0m\u001b[0m\n\u001b[0m\u001b[1;32m      3\u001b[0m \u001b[0mplt\u001b[0m\u001b[0;34m.\u001b[0m\u001b[0mcontour\u001b[0m\u001b[0;34m(\u001b[0m\u001b[0mX\u001b[0m\u001b[0;34m,\u001b[0m\u001b[0mY\u001b[0m\u001b[0;34m,\u001b[0m \u001b[0mAXY\u001b[0m\u001b[0;34m,\u001b[0m \u001b[0mcmap\u001b[0m\u001b[0;34m=\u001b[0m \u001b[0mcm\u001b[0m\u001b[0;34m.\u001b[0m\u001b[0mgray\u001b[0m\u001b[0;34m)\u001b[0m\u001b[0;34m\u001b[0m\u001b[0;34m\u001b[0m\u001b[0m\n\u001b[1;32m      4\u001b[0m \u001b[0mplt\u001b[0m\u001b[0;34m.\u001b[0m\u001b[0mcolorbar\u001b[0m\u001b[0;34m(\u001b[0m\u001b[0;34m)\u001b[0m\u001b[0;34m\u001b[0m\u001b[0;34m\u001b[0m\u001b[0m\n\u001b[1;32m      5\u001b[0m \u001b[0;31m# Adding directory data as scatter points\u001b[0m\u001b[0;34m\u001b[0m\u001b[0;34m\u001b[0m\u001b[0;34m\u001b[0m\u001b[0m\n",
      "\u001b[0;32m<ipython-input-5-9d5b29aeb425>\u001b[0m in \u001b[0;36madp_reference\u001b[0;34m()\u001b[0m\n\u001b[1;32m      1\u001b[0m \u001b[0;31m#Free energy surface reference adp do not use in a quantitative fashion\u001b[0m\u001b[0;34m\u001b[0m\u001b[0;34m\u001b[0m\u001b[0;34m\u001b[0m\u001b[0m\n\u001b[1;32m      2\u001b[0m \u001b[0;32mdef\u001b[0m \u001b[0madp_reference\u001b[0m\u001b[0;34m(\u001b[0m\u001b[0;34m)\u001b[0m\u001b[0;34m:\u001b[0m\u001b[0;34m\u001b[0m\u001b[0;34m\u001b[0m\u001b[0m\n\u001b[0;32m----> 3\u001b[0;31m     \u001b[0mcenters\u001b[0m \u001b[0;34m=\u001b[0m \u001b[0mnp\u001b[0m\u001b[0;34m.\u001b[0m\u001b[0mload\u001b[0m\u001b[0;34m(\u001b[0m\u001b[0;34m'control_data/centers.npy'\u001b[0m\u001b[0;34m)\u001b[0m\u001b[0;34m\u001b[0m\u001b[0;34m\u001b[0m\u001b[0m\n\u001b[0m\u001b[1;32m      4\u001b[0m     \u001b[0mtau\u001b[0m \u001b[0;34m=\u001b[0m \u001b[0;36m6\u001b[0m\u001b[0;34m\u001b[0m\u001b[0;34m\u001b[0m\u001b[0m\n\u001b[1;32m      5\u001b[0m     \u001b[0mdtrajs_long\u001b[0m \u001b[0;34m=\u001b[0m \u001b[0mlist\u001b[0m\u001b[0;34m(\u001b[0m\u001b[0mnp\u001b[0m\u001b[0;34m.\u001b[0m\u001b[0mload\u001b[0m\u001b[0;34m(\u001b[0m\u001b[0;34m'control_data/dtrajs_long.npz'\u001b[0m\u001b[0;34m)\u001b[0m\u001b[0;34m[\u001b[0m\u001b[0;34m'arr_0'\u001b[0m\u001b[0;34m]\u001b[0m\u001b[0;34m)\u001b[0m\u001b[0;34m\u001b[0m\u001b[0;34m\u001b[0m\u001b[0m\n",
      "\u001b[0;32m~/miniconda3/envs/cvlearn/lib/python3.6/site-packages/numpy/lib/npyio.py\u001b[0m in \u001b[0;36mload\u001b[0;34m(file, mmap_mode, allow_pickle, fix_imports, encoding)\u001b[0m\n\u001b[1;32m    360\u001b[0m     \u001b[0mown_fid\u001b[0m \u001b[0;34m=\u001b[0m \u001b[0;32mFalse\u001b[0m\u001b[0;34m\u001b[0m\u001b[0;34m\u001b[0m\u001b[0m\n\u001b[1;32m    361\u001b[0m     \u001b[0;32mif\u001b[0m \u001b[0misinstance\u001b[0m\u001b[0;34m(\u001b[0m\u001b[0mfile\u001b[0m\u001b[0;34m,\u001b[0m \u001b[0mbasestring\u001b[0m\u001b[0;34m)\u001b[0m\u001b[0;34m:\u001b[0m\u001b[0;34m\u001b[0m\u001b[0;34m\u001b[0m\u001b[0m\n\u001b[0;32m--> 362\u001b[0;31m         \u001b[0mfid\u001b[0m \u001b[0;34m=\u001b[0m \u001b[0mopen\u001b[0m\u001b[0;34m(\u001b[0m\u001b[0mfile\u001b[0m\u001b[0;34m,\u001b[0m \u001b[0;34m\"rb\"\u001b[0m\u001b[0;34m)\u001b[0m\u001b[0;34m\u001b[0m\u001b[0;34m\u001b[0m\u001b[0m\n\u001b[0m\u001b[1;32m    363\u001b[0m         \u001b[0mown_fid\u001b[0m \u001b[0;34m=\u001b[0m \u001b[0;32mTrue\u001b[0m\u001b[0;34m\u001b[0m\u001b[0;34m\u001b[0m\u001b[0m\n\u001b[1;32m    364\u001b[0m     \u001b[0;32melse\u001b[0m\u001b[0;34m:\u001b[0m\u001b[0;34m\u001b[0m\u001b[0;34m\u001b[0m\u001b[0m\n",
      "\u001b[0;31mFileNotFoundError\u001b[0m: [Errno 2] No such file or directory: 'control_data/centers.npy'"
     ]
    }
   ],
   "source": [
    "# Plotting the reference as contours\n",
    "X,Y,AXY = adp_reference()\n",
    "plt.contour(X,Y, AXY, cmap= cm.gray)\n",
    "plt.colorbar()\n",
    "# Adding directory data as scatter points\n",
    "plt.scatter(torsion_list[:,0],torsion_list[:,1])\n",
    "plt.xlabel(r'$\\phi$')\n",
    "plt.ylabel(r'$\\psi$')"
   ]
  },
  {
   "cell_type": "markdown",
   "metadata": {},
   "source": [
    "## RMSD from MDtraj"
   ]
  },
  {
   "cell_type": "code",
   "execution_count": 14,
   "metadata": {},
   "outputs": [
    {
     "name": "stderr",
     "output_type": "stream",
     "text": [
      "/home/ppxasjsm/miniconda3/lib/python3.6/importlib/_bootstrap.py:219: RuntimeWarning: numpy.dtype size changed, may indicate binary incompatibility. Expected 96, got 88\n",
      "  return f(*args, **kwds)\n"
     ]
    }
   ],
   "source": [
    "import mdtraj as md"
   ]
  },
  {
   "cell_type": "code",
   "execution_count": 15,
   "metadata": {},
   "outputs": [],
   "source": [
    "def myRMSD():\n",
    "    traj = md.load('trajectory.dcd', top=pdb_name).remove_solvent()\n",
    "    rmsd = md.rmsd(traj,traj,frame=0)\n",
    "    return rmsd"
   ]
  },
  {
   "cell_type": "markdown",
   "metadata": {},
   "source": [
    "## RMSD and using diffusion maps to get first eigenvector. "
   ]
  },
  {
   "cell_type": "code",
   "execution_count": 16,
   "metadata": {},
   "outputs": [
    {
     "ename": "ModuleNotFoundError",
     "evalue": "No module named 'rmsd'",
     "output_type": "error",
     "traceback": [
      "\u001b[0;31m---------------------------------------------------------------------------\u001b[0m",
      "\u001b[0;31mModuleNotFoundError\u001b[0m                       Traceback (most recent call last)",
      "\u001b[0;32m<ipython-input-16-f4b5850f9700>\u001b[0m in \u001b[0;36m<module>\u001b[0;34m()\u001b[0m\n\u001b[1;32m      1\u001b[0m \u001b[0;31m# download from https://pypi.python.org/pypi/rmsd/1.2.5\u001b[0m\u001b[0;34m\u001b[0m\u001b[0;34m\u001b[0m\u001b[0m\n\u001b[0;32m----> 2\u001b[0;31m \u001b[0;32mimport\u001b[0m \u001b[0mrmsd\u001b[0m\u001b[0;34m\u001b[0m\u001b[0m\n\u001b[0m\u001b[1;32m      3\u001b[0m \u001b[0;34m\u001b[0m\u001b[0m\n\u001b[1;32m      4\u001b[0m \u001b[0;34m\u001b[0m\u001b[0m\n\u001b[1;32m      5\u001b[0m \u001b[0;32mdef\u001b[0m \u001b[0mmyRMSDmetric\u001b[0m\u001b[0;34m(\u001b[0m\u001b[0marr1\u001b[0m\u001b[0;34m,\u001b[0m \u001b[0marr2\u001b[0m\u001b[0;34m)\u001b[0m\u001b[0;34m:\u001b[0m\u001b[0;34m\u001b[0m\u001b[0m\n",
      "\u001b[0;31mModuleNotFoundError\u001b[0m: No module named 'rmsd'"
     ]
    }
   ],
   "source": [
    "# download from https://pypi.python.org/pypi/rmsd/1.2.5\n",
    "import rmsd\n",
    "\n",
    "\n",
    "def myRMSDmetric(arr1, arr2):\n",
    "    \"\"\"\n",
    "    This function is built under the assumption that the space dimension is 3!!!\n",
    "    Requirement from sklearn radius_neighbors_graph: The callable should take two arrays as input and return one value indicating the distance between them.\n",
    "     Input: One row from reshaped XYZ trajectory as number of steps times nDOF\n",
    "     Inside: Reshape to XYZ format and apply rmsd as r=rmsd(X[i], X[j])\n",
    "     Output: rmsd distance\n",
    "    \"\"\"\n",
    "    \n",
    "    nParticles = len(arr1) / 3;\n",
    "    assert (nParticles == int(nParticles))\n",
    "\n",
    "    X1 = arr1.reshape(int(nParticles), 3 )\n",
    "    X2 = arr2.reshape(int(nParticles), 3 )\n",
    "\n",
    "    X1 = X1 -  rmsd.centroid(X1)\n",
    "    X2 = X2 -  rmsd.centroid(X2)\n",
    "\n",
    "    return rmsd.kabsch_rmsd(X1, X2)\n",
    "\n"
   ]
  },
  {
   "cell_type": "code",
   "execution_count": 17,
   "metadata": {},
   "outputs": [],
   "source": [
    "traj = md.load('trajectory.dcd', top=pdb_name).remove_solvent().xyz\n",
    "Xresh=traj.reshape(traj.shape[0], traj.shape[1]*traj.shape[2])"
   ]
  },
  {
   "cell_type": "code",
   "execution_count": 18,
   "metadata": {},
   "outputs": [
    {
     "ename": "ModuleNotFoundError",
     "evalue": "No module named 'pydiffmap'",
     "output_type": "error",
     "traceback": [
      "\u001b[0;31m---------------------------------------------------------------------------\u001b[0m",
      "\u001b[0;31mModuleNotFoundError\u001b[0m                       Traceback (most recent call last)",
      "\u001b[0;32m<ipython-input-18-0344e0c30992>\u001b[0m in \u001b[0;36m<module>\u001b[0;34m()\u001b[0m\n\u001b[0;32m----> 1\u001b[0;31m \u001b[0;32mimport\u001b[0m \u001b[0mpydiffmap\u001b[0m\u001b[0;34m.\u001b[0m\u001b[0mdiffusion_map\u001b[0m \u001b[0;32mas\u001b[0m \u001b[0mdfm_est\u001b[0m\u001b[0;34m\u001b[0m\u001b[0m\n\u001b[0m",
      "\u001b[0;31mModuleNotFoundError\u001b[0m: No module named 'pydiffmap'"
     ]
    }
   ],
   "source": [
    "import pydiffmap.diffusion_map as dfm_est"
   ]
  },
  {
   "cell_type": "code",
   "execution_count": null,
   "metadata": {},
   "outputs": [],
   "source": [
    "## WARNING: This takes a long time also for a small number of frames! \n",
    "## Not sure how to give weight to this either!\n",
    "mydmap = dfm_est.DiffusionMap(n_evecs=5, epsilon=0.1, alpha = 0.5, k=500, metric=myRMSDmetric)\n",
    "mydmap.fit_transform(Xresh)\n",
    "evec = np.asarray(mydmap.evecs[:,0])"
   ]
  },
  {
   "cell_type": "markdown",
   "metadata": {},
   "source": [
    "## Just copied some plotting functionality. Not really used"
   ]
  },
  {
   "cell_type": "code",
   "execution_count": 19,
   "metadata": {},
   "outputs": [],
   "source": [
    "def plot_free_energy(xxx, beta):\n",
    "\n",
    "    valsor, edgesor = np.histogram(xxx, bins=50, normed=True)\n",
    "    edgesor=0.5*(edgesor[1:]+edgesor[:-1])\n",
    "\n",
    "    plt.plot(edgesor, -beta * np.log(valsor), '-r')\n",
    "    plt.show()"
   ]
  },
  {
   "cell_type": "code",
   "execution_count": 20,
   "metadata": {},
   "outputs": [],
   "source": [
    "def plot(x, color=None, title=None):\n",
    "\n",
    "    cbar = plt.scatter(x[:,0], x[:,1], s=10, cmap=ev_cmap)\n",
    "    plt.colorbar(cbar)\n",
    "\n",
    "    plt.xlabel('phi')\n",
    "    plt.ylabel('psi')\n",
    "    if title is not None:\n",
    "        plt.title(title)\n",
    "    plt.show()"
   ]
  },
  {
   "cell_type": "code",
   "execution_count": 21,
   "metadata": {},
   "outputs": [],
   "source": [
    "def reverse_colourmap(cmap, name = 'my_cmap_r'):\n",
    "     return mpl.colors.LinearSegmentedColormap(name, cm.revcmap(cmap._segmentdata))\n",
    "\n",
    "rev_spectral = reverse_colourmap(cm.Spectral, name = 'mysp')\n",
    "potential_cmap = cm.Greys\n",
    "ev_cmap = rev_spectral"
   ]
  },
  {
   "cell_type": "markdown",
   "metadata": {},
   "source": [
    "## Bog standard metadynamics simulation using phi and psi as CVs"
   ]
  },
  {
   "cell_type": "code",
   "execution_count": 14,
   "metadata": {},
   "outputs": [
    {
     "name": "stdout",
     "output_type": "stream",
     "text": [
      "[[1.59201073 1.85221463 2.09928618 ... 0.81548529 1.06249891 1.32545117]\n",
      " [1.23858718 1.43988898 1.63010289 ... 0.63367671 0.82649257 1.03145221]\n",
      " [0.92014606 1.06797861 1.20657633 ... 0.47103606 0.61469863 0.76698755]\n",
      " ...\n",
      " [2.60298787 3.01773412 3.40909518 ... 1.35397769 1.75337732 2.1762321 ]\n",
      " [2.30562864 2.67883584 3.03302419 ... 1.19099459 1.54609719 1.92337978]\n",
      " [1.95752918 2.2770963  2.58100054 ... 1.00594125 1.30857115 1.63069097]]\n",
      "[[1.59202121 1.85224772 2.0993844  ... 0.81548552 1.06249979 1.32545429]\n",
      " [1.23859459 1.43991238 1.63017233 ... 0.63367687 0.82649319 1.03145442]\n",
      " [0.92015098 1.06799415 1.20662243 ... 0.47103617 0.61469904 0.76698901]\n",
      " ...\n",
      " [2.60300817 3.01779831 3.40928608 ... 1.35397813 1.753379   2.17623813]\n",
      " [2.30564598 2.67889064 3.03318704 ... 1.19099496 1.54609863 1.92338494]\n",
      " [1.95754309 2.27714025 2.58113104 ... 1.00594155 1.30857231 1.63069511]]\n",
      "[[1.59275138 1.85409972 2.1038087  ... 0.81551667 1.06259451 1.32572535]\n",
      " [1.239147   1.44131564 1.63353013 ... 0.63370035 0.82656466 1.0316592 ]\n",
      " [0.92054504 1.06899711 1.20902737 ... 0.47105284 0.61474985 0.76713483]\n",
      " ...\n",
      " [2.6041903  3.02079006 3.41641566 ... 1.35402882 1.75353292 2.17667783]\n",
      " [2.30671435 2.68159545 3.03963545 ... 1.19104075 1.54623766 1.92378221]\n",
      " [1.9584529  2.27944528 2.58663084 ... 1.00598047 1.30869056 1.6310332 ]]\n",
      "[[1.88280505 2.12466563 2.37445296 ... 1.19184446 1.41587693 1.64679082]\n",
      " [1.44573623 1.63736669 1.83353526 ... 0.89581995 1.07353499 1.25765712]\n",
      " [1.05898604 1.20276866 1.34824016 ... 0.64246985 0.77692027 0.91666411]\n",
      " ...\n",
      " [3.16013089 3.51606188 3.88465207 ... 2.11662575 2.46313417 2.8107549 ]\n",
      " [2.78260897 3.1116961  3.45374948 ... 1.83296224 2.14511782 2.46163962]\n",
      " [2.34154539 2.63102652 2.93158361 ... 1.51324369 1.78333161 2.05971337]]\n",
      "[[2.66837174 3.13687542 3.60497562 ... 1.44983583 1.81260916 2.22175901]\n",
      " [2.17767033 2.579553   2.97745557 ... 1.13656592 1.44363038 1.7937539 ]\n",
      " [1.69992633 2.02716313 2.34806735 ... 0.85352725 1.10130961 1.3863798 ]\n",
      " ...\n",
      " [3.82996705 4.38276505 4.94404044 ... 2.33501237 2.79954103 3.29945904]\n",
      " [3.53405309 4.08240982 4.63776046 ... 2.07867172 2.52334434 3.01057147]\n",
      " [3.13401096 3.65331706 4.17626108 ... 1.77299281 2.18294207 2.63922264]]\n"
     ]
    },
    {
     "data": {
      "image/png": "[encoded data removed]",
      "text/plain": [
       "<Figure size 432x288 with 1 Axes>"
      ]
     },
     "metadata": {},
     "output_type": "display_data"
    }
   ],
   "source": [
    "# Create a System for alanine dipeptide in water.\n",
    "\n",
    "pdb = PDBFile('/home/ppxasjsm/Projects/git/openmm/wrappers/python/tests/systems/alanine-dipeptide-explicit.pdb')\n",
    "        \n",
    "forcefield = ForceField('amber14-all.xml', 'amber14/spce.xml')\n",
    "system = forcefield.createSystem(pdb.topology, nonbondedMethod=PME, constraints=HBonds)\n",
    "\n",
    "# Define collective variables for phi and psi.\n",
    "cv1 = CustomTorsionForce('theta')\n",
    "cv1.addTorsion(1, 6, 8, 14)\n",
    "phi = metadynamics.BiasVariable(cv1, -np.pi, np.pi, 0.5, True)\n",
    "cv2 = CustomTorsionForce('theta')\n",
    "cv2.addTorsion(6, 8, 14, 16)\n",
    "psi = metadynamics.BiasVariable(cv2, -np.pi, np.pi, 0.5, True)\n",
    "# Set up the simulation.\n",
    "\n",
    "meta = metadynamics.Metadynamics(system, [phi, psi], 300.0*kelvin, 1000.0, 1.0*kilojoules_per_mole, 100)\n",
    "integrator = LangevinIntegrator(300*kelvin, 1.0/picosecond, 0.002*picoseconds)\n",
    "simulation = Simulation(pdb.topology, system, integrator, platform=Platform.getPlatformByName('CUDA'))\n",
    "simulation.context.setPositions(pdb.positions)\n",
    "\n",
    "# Run the simulation and plot the free energy landscape.\n",
    "\n",
    "for i in range(5):\n",
    "    meta.step(simulation, 1000)\n",
    "    print (meta._bias)\n",
    "plt.imshow(meta.getFreeEnergy())\n",
    "plt.show()"
   ]
  },
  {
   "cell_type": "code",
   "execution_count": 11,
   "metadata": {},
   "outputs": [
    {
     "data": {
      "text/plain": [
       "(63, 63)"
      ]
     },
     "execution_count": 11,
     "metadata": {},
     "output_type": "execute_result"
    }
   ],
   "source": [
    "np.shape(meta._bias)"
   ]
  },
  {
   "cell_type": "markdown",
   "metadata": {},
   "source": [
    "## Diffusion map"
   ]
  },
  {
   "cell_type": "code",
   "execution_count": 15,
   "metadata": {},
   "outputs": [
    {
     "ename": "ModuleNotFoundError",
     "evalue": "No module named 'pydiffmap'",
     "output_type": "error",
     "traceback": [
      "\u001b[0;31m---------------------------------------------------------------------------\u001b[0m",
      "\u001b[0;31mModuleNotFoundError\u001b[0m                       Traceback (most recent call last)",
      "\u001b[0;32m<ipython-input-15-0344e0c30992>\u001b[0m in \u001b[0;36m<module>\u001b[0;34m()\u001b[0m\n\u001b[0;32m----> 1\u001b[0;31m \u001b[0;32mimport\u001b[0m \u001b[0mpydiffmap\u001b[0m\u001b[0;34m.\u001b[0m\u001b[0mdiffusion_map\u001b[0m \u001b[0;32mas\u001b[0m \u001b[0mdfm_est\u001b[0m\u001b[0;34m\u001b[0m\u001b[0m\n\u001b[0m",
      "\u001b[0;31mModuleNotFoundError\u001b[0m: No module named 'pydiffmap'"
     ]
    }
   ],
   "source": [
    "import pydiffmap.diffusion_map as dfm_est"
   ]
  },
  {
   "cell_type": "code",
   "execution_count": null,
   "metadata": {},
   "outputs": [],
   "source": []
  }
 ],
 "metadata": {
  "kernelspec": {
   "display_name": "Python 3",
   "language": "python",
   "name": "python3"
  },
  "language_info": {
   "codemirror_mode": {
    "name": "ipython",
    "version": 3
   },
   "file_extension": ".py",
   "mimetype": "text/x-python",
   "name": "python",
   "nbconvert_exporter": "python",
   "pygments_lexer": "ipython3",
   "version": "3.7.3"
  }
 },
 "nbformat": 4,
 "nbformat_minor": 2
}
